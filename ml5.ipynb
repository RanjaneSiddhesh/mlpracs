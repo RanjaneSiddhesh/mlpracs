{
 "cells": [
  {
   "cell_type": "code",
   "execution_count": 3,
   "id": "af422653-0683-4c4f-88ef-531fd6529b12",
   "metadata": {},
   "outputs": [
    {
     "name": "stderr",
     "output_type": "stream",
     "text": [
      "C:\\ProgramData\\anaconda3\\Lib\\site-packages\\seaborn\\_oldcore.py:1119: FutureWarning: use_inf_as_na option is deprecated and will be removed in a future version. Convert inf values to NaN before operating instead.\n",
      "  with pd.option_context('mode.use_inf_as_na', True):\n"
     ]
    },
    {
     "name": "stdout",
     "output_type": "stream",
     "text": [
      "✅ Saved: Titanic_EDA_Report.pdf\n"
     ]
    }
   ],
   "source": [
    "import seaborn as sns\n",
    "import matplotlib.pyplot as plt\n",
    "from matplotlib.backends.backend_pdf import PdfPages\n",
    "\n",
    "# Load dataset and clean\n",
    "df = sns.load_dataset('titanic')\n",
    "df.drop(columns=['deck'], inplace=True)\n",
    "df['age'].fillna(df['age'].median(), inplace=True)\n",
    "df['embarked'].fillna(df['embarked'].mode()[0], inplace=True)\n",
    "df['survived'] = df['survived'].astype(str)  # Fix for seaborn legend\n",
    "\n",
    "# Create PDF\n",
    "pdf = PdfPages(\"Titanic_EDA_Report.pdf\")\n",
    "\n",
    "# Plot 1: Survival by Gender\n",
    "sns.countplot(x='sex', hue='survived', data=df)\n",
    "plt.title(\"Survival by Gender\")\n",
    "pdf.savefig(); plt.close()\n",
    "\n",
    "# Plot 2: Age Distribution\n",
    "sns.histplot(df['age'], bins=30, kde=True)\n",
    "plt.title(\"Age Distribution\")\n",
    "pdf.savefig(); plt.close()\n",
    "\n",
    "# Plot 3: Correlation Heatmap\n",
    "sns.heatmap(df.corr(numeric_only=True), annot=True, cmap='coolwarm')\n",
    "plt.title(\"Correlation Heatmap\")\n",
    "pdf.savefig(); plt.close()\n",
    "\n",
    "# Plot 4: Fare Outliers\n",
    "sns.boxplot(x=df['fare'])\n",
    "plt.title(\"Fare Outliers\")\n",
    "pdf.savefig(); plt.close()\n",
    "\n",
    "# Plot 5: Class vs Survival\n",
    "sns.countplot(x='pclass', hue='survived', data=df)\n",
    "plt.title(\"Class vs Survival\")\n",
    "pdf.savefig(); plt.close()\n",
    "\n",
    "# Plot 6: Embarked vs Survival\n",
    "sns.countplot(x='embarked', hue='survived', data=df)\n",
    "plt.title(\"Embarked vs Survival\")\n",
    "pdf.savefig(); plt.close()\n",
    "\n",
    "# Save PDF\n",
    "pdf.close()\n",
    "print(\"✅ Saved: Titanic_EDA_Report.pdf\")\n"
   ]
  },
  {
   "cell_type": "code",
   "execution_count": null,
   "id": "a03a22a5-6cde-48f6-84c7-a8b7d6a11bb6",
   "metadata": {},
   "outputs": [],
   "source": []
  }
 ],
 "metadata": {
  "kernelspec": {
   "display_name": "Python 3 (ipykernel)",
   "language": "python",
   "name": "python3"
  },
  "language_info": {
   "codemirror_mode": {
    "name": "ipython",
    "version": 3
   },
   "file_extension": ".py",
   "mimetype": "text/x-python",
   "name": "python",
   "nbconvert_exporter": "python",
   "pygments_lexer": "ipython3",
   "version": "3.11.7"
  }
 },
 "nbformat": 4,
 "nbformat_minor": 5
}
