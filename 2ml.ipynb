{
 "cells": [
  {
   "cell_type": "code",
   "execution_count": 3,
   "id": "59c4984d-82db-493b-948d-f5156f1b7c37",
   "metadata": {},
   "outputs": [
    {
     "name": "stdout",
     "output_type": "stream",
     "text": [
      "Model accuracy: 1.00\n",
      "Model saved successfully!\n",
      "Predicted class: versicolor\n"
     ]
    }
   ],
   "source": [
    "# Import necessary libraries\n",
    "from sklearn.datasets import load_iris\n",
    "from sklearn.linear_model import LogisticRegression\n",
    "from sklearn.model_selection import train_test_split\n",
    "import joblib\n",
    "\n",
    "# Step 1: Load dataset and split\n",
    "iris = load_iris()\n",
    "X_train, X_test, y_train, y_test = train_test_split(\n",
    "    iris.data, iris.target, test_size=0.2, random_state=42\n",
    ")\n",
    "\n",
    "# Step 2: Train a Logistic Regression model\n",
    "model = LogisticRegression(max_iter=200)  # increased max_iter for convergence\n",
    "model.fit(X_train, y_train)\n",
    "\n",
    "# Evaluate the model\n",
    "accuracy = model.score(X_test, y_test)\n",
    "print(f\"Model accuracy: {accuracy:.2f}\")\n",
    "\n",
    "# Step 3: Save the model\n",
    "joblib.dump(model, 'logistic_regression_model.pkl')\n",
    "print(\"Model saved successfully!\")\n",
    "\n",
    "# Step 4: Reuse the model (load and predict)\n",
    "loaded_model = joblib.load('logistic_regression_model.pkl')\n",
    "\n",
    "# Predict using the loaded model\n",
    "sample_input = [[6.1, 2.8, 4.7, 1.2]]  # Example input\n",
    "prediction = loaded_model.predict(sample_input)\n",
    "\n",
    "print(f\"Predicted class: {iris.target_names[prediction][0]}\")\n"
   ]
  },
  {
   "cell_type": "code",
   "execution_count": null,
   "id": "f8dfc6fa-b253-437f-89d2-2f0fbbeabcf6",
   "metadata": {},
   "outputs": [],
   "source": []
  }
 ],
 "metadata": {
  "kernelspec": {
   "display_name": "Python 3 (ipykernel)",
   "language": "python",
   "name": "python3"
  },
  "language_info": {
   "codemirror_mode": {
    "name": "ipython",
    "version": 3
   },
   "file_extension": ".py",
   "mimetype": "text/x-python",
   "name": "python",
   "nbconvert_exporter": "python",
   "pygments_lexer": "ipython3",
   "version": "3.11.7"
  }
 },
 "nbformat": 4,
 "nbformat_minor": 5
}
