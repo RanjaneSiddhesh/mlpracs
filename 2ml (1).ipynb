{
 "cells": [
  {
   "cell_type": "code",
   "execution_count": 5,
   "id": "59c4984d-82db-493b-948d-f5156f1b7c37",
   "metadata": {},
   "outputs": [
    {
     "name": "stdout",
     "output_type": "stream",
     "text": [
      "Model v1 Accuracy: 1.00\n",
      "Model v2 Accuracy: 1.00\n",
      "Better Model: Both same\n"
     ]
    }
   ],
   "source": [
    "import pandas as pd\n",
    "from sklearn.datasets import load_iris\n",
    "from sklearn.model_selection import train_test_split\n",
    "from sklearn.linear_model import LogisticRegression\n",
    "from sklearn.metrics import accuracy_score\n",
    "import joblib\n",
    "\n",
    "# Load and prepare data\n",
    "X, y = load_iris(return_X_y=True)\n",
    "X_train, X_test, y_train, y_test = train_test_split(X, y, test_size=0.2, random_state=42)\n",
    "\n",
    "# Model v1\n",
    "model1 = LogisticRegression(max_iter=200)\n",
    "model1.fit(X_train, y_train)\n",
    "acc1 = accuracy_score(y_test, model1.predict(X_test))\n",
    "joblib.dump(model1, \"model_v1.pkl\")\n",
    "\n",
    "# Model v2 (tuned)\n",
    "model2 = LogisticRegression(C=0.5, max_iter=300)\n",
    "model2.fit(X_train, y_train)\n",
    "acc2 = accuracy_score(y_test, model2.predict(X_test))\n",
    "joblib.dump(model2, \"model_v2.pkl\")\n",
    "\n",
    "# Compare\n",
    "print(f\"Model v1 Accuracy: {acc1:.2f}\")\n",
    "print(f\"Model v2 Accuracy: {acc2:.2f}\")\n",
    "print(\"Better Model:\", \"v1\" if acc1 > acc2 else \"v2\" if acc2 > acc1 else \"Both same\")\n"
   ]
  },
  {
   "cell_type": "code",
   "execution_count": null,
   "id": "f8dfc6fa-b253-437f-89d2-2f0fbbeabcf6",
   "metadata": {},
   "outputs": [],
   "source": []
  }
 ],
 "metadata": {
  "kernelspec": {
   "display_name": "Python 3 (ipykernel)",
   "language": "python",
   "name": "python3"
  },
  "language_info": {
   "codemirror_mode": {
    "name": "ipython",
    "version": 3
   },
   "file_extension": ".py",
   "mimetype": "text/x-python",
   "name": "python",
   "nbconvert_exporter": "python",
   "pygments_lexer": "ipython3",
   "version": "3.11.7"
  }
 },
 "nbformat": 4,
 "nbformat_minor": 5
}
