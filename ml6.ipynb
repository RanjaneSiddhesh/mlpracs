{
 "cells": [
  {
   "cell_type": "code",
   "execution_count": null,
   "id": "65e6bda2-eabf-4215-8c11-2984b613ee6d",
   "metadata": {},
   "outputs": [],
   "source": [
    "import os\n",
    "import matplotlib.pyplot as plt\n",
    "from sklearn.datasets import load_wine\n",
    "from sklearn.linear_model import LogisticRegression\n",
    "from sklearn.metrics import accuracy_score, confusion_matrix, precision_recall_curve\n",
    "from sklearn.metrics import ConfusionMatrixDisplay, PrecisionRecallDisplay\n",
    "from sklearn.model_selection import train_test_split\n",
    "from sklearn.preprocessing import StandardScaler\n",
    "\n",
    "# Load and prepare binary classification dataset\n",
    "X, y = load_wine(return_X_y=True)\n",
    "X, y = X[y != 2], y[y != 2]\n",
    "\n",
    "# Standardize and split\n",
    "X = StandardScaler().fit_transform(X)\n",
    "X_train, X_test, y_train, y_test = train_test_split(X, y, test_size=0.2, random_state=42)\n",
    "\n",
    "# Create folder to save results\n",
    "os.makedirs(\"results\", exist_ok=True)\n",
    "\n",
    "# Define two logistic regression models\n",
    "models = [\n",
    "    LogisticRegression(max_iter=200),\n",
    "    LogisticRegression(C=0.5, max_iter=300)\n",
    "]\n",
    "\n",
    "# Train, evaluate, and visualize\n",
    "for i, model in enumerate(models, 1):\n",
    "    model.fit(X_train, y_train)\n",
    "    y_pred = model.predict(X_test)\n",
    "    y_score = model.predict_proba(X_test)[:, 1]\n",
    "    acc = accuracy_score(y_test, y_pred)\n",
    "    print(f\"Model {i} Accuracy: {acc:.2f}\")\n",
    "\n",
    "    ConfusionMatrixDisplay.from_predictions(y_test, y_pred)\n",
    "    plt.title(f\"Confusion Matrix - Model {i}\")\n",
    "    plt.savefig(f\"results/confusion_matrix_model{i}.png\")\n",
    "    plt.close()\n",
    "\n",
    "    prec, rec, _ = precision_recall_curve(y_test, y_score)\n",
    "    PrecisionRecallDisplay(precision=prec, recall=rec).plot()\n",
    "    plt.title(f\"Precision-Recall Curve - Model {i}\")\n",
    "    plt.savefig(f\"results/precision_recall_model{i}.png\")\n",
    "    plt.close()\n",
    "\n",
    "# Model comparison\n",
    "print(\"\\nModel Comparison:\")\n",
    "acc1 = accuracy_score(y_test, models[0].predict(X_test))\n",
    "acc2 = accuracy_score(y_test, models[1].predict(X_test))\n",
    "print(\"Model 1 is better.\" if acc1 > acc2 else \"Model 2 is better.\" if acc2 > acc1 else \"Both perform equally.\")\n"
   ]
  }
 ],
 "metadata": {
  "kernelspec": {
   "display_name": "Python 3 (ipykernel)",
   "language": "python",
   "name": "python3"
  },
  "language_info": {
   "codemirror_mode": {
    "name": "ipython",
    "version": 3
   },
   "file_extension": ".py",
   "mimetype": "text/x-python",
   "name": "python",
   "nbconvert_exporter": "python",
   "pygments_lexer": "ipython3",
   "version": "3.11.7"
  }
 },
 "nbformat": 4,
 "nbformat_minor": 5
}
